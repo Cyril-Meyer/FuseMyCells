{
 "cells": [
  {
   "cell_type": "code",
   "execution_count": 1,
   "id": "d5e9c10c-fa12-42c0-885c-5a8f108e501a",
   "metadata": {},
   "outputs": [],
   "source": [
    "import pandas as pd"
   ]
  },
  {
   "cell_type": "markdown",
   "id": "e49c940e-f4b8-4c72-a8f4-b6b1873b43c0",
   "metadata": {},
   "source": [
    "* result_01 : first large search\n",
    "* result_02 : search in the interesting area\n",
    "* result_03 : fixed dataset due to error in data given by organizer (now corrected)\n",
    "* result_04 : same as 03 but eval on whole image"
   ]
  },
  {
   "cell_type": "code",
   "execution_count": 2,
   "id": "5b5b78b2-5298-41a8-87ce-3c77b09a8ad0",
   "metadata": {},
   "outputs": [],
   "source": [
    "df = pd.read_csv('result_csv/result_04.csv')"
   ]
  },
  {
   "cell_type": "code",
   "execution_count": 3,
   "id": "d1ba349f-6bcd-42f7-bb6a-9e6b9376033e",
   "metadata": {},
   "outputs": [
    {
     "data": {
      "text/html": [
       "<div>\n",
       "<style scoped>\n",
       "    .dataframe tbody tr th:only-of-type {\n",
       "        vertical-align: middle;\n",
       "    }\n",
       "\n",
       "    .dataframe tbody tr th {\n",
       "        vertical-align: top;\n",
       "    }\n",
       "\n",
       "    .dataframe thead th {\n",
       "        text-align: right;\n",
       "    }\n",
       "</style>\n",
       "<table border=\"1\" class=\"dataframe\">\n",
       "  <thead>\n",
       "    <tr style=\"text-align: right;\">\n",
       "      <th></th>\n",
       "      <th>model</th>\n",
       "      <th>arg</th>\n",
       "      <th>all</th>\n",
       "      <th>nucleus</th>\n",
       "      <th>membrane</th>\n",
       "    </tr>\n",
       "  </thead>\n",
       "  <tbody>\n",
       "    <tr>\n",
       "      <th>3</th>\n",
       "      <td>gaussian_filter</td>\n",
       "      <td>sigma=0.44</td>\n",
       "      <td>0.125738</td>\n",
       "      <td>0.111468</td>\n",
       "      <td>0.163020</td>\n",
       "    </tr>\n",
       "    <tr>\n",
       "      <th>2</th>\n",
       "      <td>gaussian_filter</td>\n",
       "      <td>sigma=0.438</td>\n",
       "      <td>0.125254</td>\n",
       "      <td>0.111141</td>\n",
       "      <td>0.162126</td>\n",
       "    </tr>\n",
       "    <tr>\n",
       "      <th>1</th>\n",
       "      <td>gaussian_filter</td>\n",
       "      <td>sigma=0.434</td>\n",
       "      <td>0.124795</td>\n",
       "      <td>0.110634</td>\n",
       "      <td>0.161790</td>\n",
       "    </tr>\n",
       "  </tbody>\n",
       "</table>\n",
       "</div>"
      ],
      "text/plain": [
       "             model          arg       all   nucleus  membrane\n",
       "3  gaussian_filter   sigma=0.44  0.125738  0.111468  0.163020\n",
       "2  gaussian_filter  sigma=0.438  0.125254  0.111141  0.162126\n",
       "1  gaussian_filter  sigma=0.434  0.124795  0.110634  0.161790"
      ]
     },
     "execution_count": 3,
     "metadata": {},
     "output_type": "execute_result"
    }
   ],
   "source": [
    "df.sort_values('all', ascending=False).head(3)"
   ]
  },
  {
   "cell_type": "code",
   "execution_count": 4,
   "id": "43980978-c648-4995-af7d-d42a9f4d8c9c",
   "metadata": {},
   "outputs": [
    {
     "data": {
      "text/html": [
       "<div>\n",
       "<style scoped>\n",
       "    .dataframe tbody tr th:only-of-type {\n",
       "        vertical-align: middle;\n",
       "    }\n",
       "\n",
       "    .dataframe tbody tr th {\n",
       "        vertical-align: top;\n",
       "    }\n",
       "\n",
       "    .dataframe thead th {\n",
       "        text-align: right;\n",
       "    }\n",
       "</style>\n",
       "<table border=\"1\" class=\"dataframe\">\n",
       "  <thead>\n",
       "    <tr style=\"text-align: right;\">\n",
       "      <th></th>\n",
       "      <th>model</th>\n",
       "      <th>arg</th>\n",
       "      <th>all</th>\n",
       "      <th>nucleus</th>\n",
       "      <th>membrane</th>\n",
       "    </tr>\n",
       "  </thead>\n",
       "  <tbody>\n",
       "    <tr>\n",
       "      <th>3</th>\n",
       "      <td>gaussian_filter</td>\n",
       "      <td>sigma=0.44</td>\n",
       "      <td>0.125738</td>\n",
       "      <td>0.111468</td>\n",
       "      <td>0.163020</td>\n",
       "    </tr>\n",
       "    <tr>\n",
       "      <th>2</th>\n",
       "      <td>gaussian_filter</td>\n",
       "      <td>sigma=0.438</td>\n",
       "      <td>0.125254</td>\n",
       "      <td>0.111141</td>\n",
       "      <td>0.162126</td>\n",
       "    </tr>\n",
       "    <tr>\n",
       "      <th>1</th>\n",
       "      <td>gaussian_filter</td>\n",
       "      <td>sigma=0.434</td>\n",
       "      <td>0.124795</td>\n",
       "      <td>0.110634</td>\n",
       "      <td>0.161790</td>\n",
       "    </tr>\n",
       "  </tbody>\n",
       "</table>\n",
       "</div>"
      ],
      "text/plain": [
       "             model          arg       all   nucleus  membrane\n",
       "3  gaussian_filter   sigma=0.44  0.125738  0.111468  0.163020\n",
       "2  gaussian_filter  sigma=0.438  0.125254  0.111141  0.162126\n",
       "1  gaussian_filter  sigma=0.434  0.124795  0.110634  0.161790"
      ]
     },
     "execution_count": 4,
     "metadata": {},
     "output_type": "execute_result"
    }
   ],
   "source": [
    "df.sort_values('nucleus', ascending=False).head(3)"
   ]
  },
  {
   "cell_type": "code",
   "execution_count": 5,
   "id": "402025ab-29c3-4b45-b6a3-db3096932e74",
   "metadata": {},
   "outputs": [
    {
     "data": {
      "text/html": [
       "<div>\n",
       "<style scoped>\n",
       "    .dataframe tbody tr th:only-of-type {\n",
       "        vertical-align: middle;\n",
       "    }\n",
       "\n",
       "    .dataframe tbody tr th {\n",
       "        vertical-align: top;\n",
       "    }\n",
       "\n",
       "    .dataframe thead th {\n",
       "        text-align: right;\n",
       "    }\n",
       "</style>\n",
       "<table border=\"1\" class=\"dataframe\">\n",
       "  <thead>\n",
       "    <tr style=\"text-align: right;\">\n",
       "      <th></th>\n",
       "      <th>model</th>\n",
       "      <th>arg</th>\n",
       "      <th>all</th>\n",
       "      <th>nucleus</th>\n",
       "      <th>membrane</th>\n",
       "    </tr>\n",
       "  </thead>\n",
       "  <tbody>\n",
       "    <tr>\n",
       "      <th>3</th>\n",
       "      <td>gaussian_filter</td>\n",
       "      <td>sigma=0.44</td>\n",
       "      <td>0.125738</td>\n",
       "      <td>0.111468</td>\n",
       "      <td>0.163020</td>\n",
       "    </tr>\n",
       "    <tr>\n",
       "      <th>6</th>\n",
       "      <td>gaussian_filter</td>\n",
       "      <td>sigma=0.476</td>\n",
       "      <td>0.116339</td>\n",
       "      <td>0.098664</td>\n",
       "      <td>0.162516</td>\n",
       "    </tr>\n",
       "    <tr>\n",
       "      <th>2</th>\n",
       "      <td>gaussian_filter</td>\n",
       "      <td>sigma=0.438</td>\n",
       "      <td>0.125254</td>\n",
       "      <td>0.111141</td>\n",
       "      <td>0.162126</td>\n",
       "    </tr>\n",
       "  </tbody>\n",
       "</table>\n",
       "</div>"
      ],
      "text/plain": [
       "             model          arg       all   nucleus  membrane\n",
       "3  gaussian_filter   sigma=0.44  0.125738  0.111468  0.163020\n",
       "6  gaussian_filter  sigma=0.476  0.116339  0.098664  0.162516\n",
       "2  gaussian_filter  sigma=0.438  0.125254  0.111141  0.162126"
      ]
     },
     "execution_count": 5,
     "metadata": {},
     "output_type": "execute_result"
    }
   ],
   "source": [
    "df.sort_values('membrane', ascending=False).head(3)"
   ]
  },
  {
   "cell_type": "code",
   "execution_count": 6,
   "id": "ab6b6f52-0e1d-464d-afac-a40c130a7679",
   "metadata": {},
   "outputs": [],
   "source": [
    "df = pd.read_csv('result_csv/result_03.csv')"
   ]
  },
  {
   "cell_type": "code",
   "execution_count": 7,
   "id": "b625d0ea-01fb-49d9-9240-af69bd3d9e57",
   "metadata": {},
   "outputs": [
    {
     "data": {
      "text/html": [
       "<div>\n",
       "<style scoped>\n",
       "    .dataframe tbody tr th:only-of-type {\n",
       "        vertical-align: middle;\n",
       "    }\n",
       "\n",
       "    .dataframe tbody tr th {\n",
       "        vertical-align: top;\n",
       "    }\n",
       "\n",
       "    .dataframe thead th {\n",
       "        text-align: right;\n",
       "    }\n",
       "</style>\n",
       "<table border=\"1\" class=\"dataframe\">\n",
       "  <thead>\n",
       "    <tr style=\"text-align: right;\">\n",
       "      <th></th>\n",
       "      <th>model</th>\n",
       "      <th>arg</th>\n",
       "      <th>all</th>\n",
       "      <th>nucleus</th>\n",
       "      <th>membrane</th>\n",
       "    </tr>\n",
       "  </thead>\n",
       "  <tbody>\n",
       "    <tr>\n",
       "      <th>32</th>\n",
       "      <td>gaussian_filter</td>\n",
       "      <td>sigma=0.462</td>\n",
       "      <td>0.141767</td>\n",
       "      <td>0.123104</td>\n",
       "      <td>0.190527</td>\n",
       "    </tr>\n",
       "    <tr>\n",
       "      <th>27</th>\n",
       "      <td>gaussian_filter</td>\n",
       "      <td>sigma=0.452</td>\n",
       "      <td>0.141757</td>\n",
       "      <td>0.126278</td>\n",
       "      <td>0.182197</td>\n",
       "    </tr>\n",
       "    <tr>\n",
       "      <th>28</th>\n",
       "      <td>gaussian_filter</td>\n",
       "      <td>sigma=0.454</td>\n",
       "      <td>0.141721</td>\n",
       "      <td>0.125402</td>\n",
       "      <td>0.184357</td>\n",
       "    </tr>\n",
       "  </tbody>\n",
       "</table>\n",
       "</div>"
      ],
      "text/plain": [
       "              model          arg       all   nucleus  membrane\n",
       "32  gaussian_filter  sigma=0.462  0.141767  0.123104  0.190527\n",
       "27  gaussian_filter  sigma=0.452  0.141757  0.126278  0.182197\n",
       "28  gaussian_filter  sigma=0.454  0.141721  0.125402  0.184357"
      ]
     },
     "execution_count": 7,
     "metadata": {},
     "output_type": "execute_result"
    }
   ],
   "source": [
    "df.sort_values('all', ascending=False).head(3)"
   ]
  },
  {
   "cell_type": "code",
   "execution_count": 8,
   "id": "3624dc26-15f2-4b3d-a365-a43660a84b4d",
   "metadata": {},
   "outputs": [
    {
     "data": {
      "text/html": [
       "<div>\n",
       "<style scoped>\n",
       "    .dataframe tbody tr th:only-of-type {\n",
       "        vertical-align: middle;\n",
       "    }\n",
       "\n",
       "    .dataframe tbody tr th {\n",
       "        vertical-align: top;\n",
       "    }\n",
       "\n",
       "    .dataframe thead th {\n",
       "        text-align: right;\n",
       "    }\n",
       "</style>\n",
       "<table border=\"1\" class=\"dataframe\">\n",
       "  <thead>\n",
       "    <tr style=\"text-align: right;\">\n",
       "      <th></th>\n",
       "      <th>model</th>\n",
       "      <th>arg</th>\n",
       "      <th>all</th>\n",
       "      <th>nucleus</th>\n",
       "      <th>membrane</th>\n",
       "    </tr>\n",
       "  </thead>\n",
       "  <tbody>\n",
       "    <tr>\n",
       "      <th>22</th>\n",
       "      <td>gaussian_filter</td>\n",
       "      <td>sigma=0.442</td>\n",
       "      <td>0.140611</td>\n",
       "      <td>0.127694</td>\n",
       "      <td>0.174358</td>\n",
       "    </tr>\n",
       "    <tr>\n",
       "      <th>21</th>\n",
       "      <td>gaussian_filter</td>\n",
       "      <td>sigma=0.44</td>\n",
       "      <td>0.139520</td>\n",
       "      <td>0.127111</td>\n",
       "      <td>0.171938</td>\n",
       "    </tr>\n",
       "    <tr>\n",
       "      <th>23</th>\n",
       "      <td>gaussian_filter</td>\n",
       "      <td>sigma=0.444</td>\n",
       "      <td>0.140420</td>\n",
       "      <td>0.127063</td>\n",
       "      <td>0.175317</td>\n",
       "    </tr>\n",
       "  </tbody>\n",
       "</table>\n",
       "</div>"
      ],
      "text/plain": [
       "              model          arg       all   nucleus  membrane\n",
       "22  gaussian_filter  sigma=0.442  0.140611  0.127694  0.174358\n",
       "21  gaussian_filter   sigma=0.44  0.139520  0.127111  0.171938\n",
       "23  gaussian_filter  sigma=0.444  0.140420  0.127063  0.175317"
      ]
     },
     "execution_count": 8,
     "metadata": {},
     "output_type": "execute_result"
    }
   ],
   "source": [
    "df.sort_values('nucleus', ascending=False).head(3)"
   ]
  },
  {
   "cell_type": "code",
   "execution_count": 9,
   "id": "e45f9a51-ee60-4689-842d-8038100e4c9a",
   "metadata": {},
   "outputs": [
    {
     "data": {
      "text/html": [
       "<div>\n",
       "<style scoped>\n",
       "    .dataframe tbody tr th:only-of-type {\n",
       "        vertical-align: middle;\n",
       "    }\n",
       "\n",
       "    .dataframe tbody tr th {\n",
       "        vertical-align: top;\n",
       "    }\n",
       "\n",
       "    .dataframe thead th {\n",
       "        text-align: right;\n",
       "    }\n",
       "</style>\n",
       "<table border=\"1\" class=\"dataframe\">\n",
       "  <thead>\n",
       "    <tr style=\"text-align: right;\">\n",
       "      <th></th>\n",
       "      <th>model</th>\n",
       "      <th>arg</th>\n",
       "      <th>all</th>\n",
       "      <th>nucleus</th>\n",
       "      <th>membrane</th>\n",
       "    </tr>\n",
       "  </thead>\n",
       "  <tbody>\n",
       "    <tr>\n",
       "      <th>50</th>\n",
       "      <td>gaussian_filter</td>\n",
       "      <td>sigma=0.498</td>\n",
       "      <td>0.125916</td>\n",
       "      <td>0.096368</td>\n",
       "      <td>0.203114</td>\n",
       "    </tr>\n",
       "    <tr>\n",
       "      <th>48</th>\n",
       "      <td>gaussian_filter</td>\n",
       "      <td>sigma=0.494</td>\n",
       "      <td>0.128675</td>\n",
       "      <td>0.100584</td>\n",
       "      <td>0.202068</td>\n",
       "    </tr>\n",
       "    <tr>\n",
       "      <th>49</th>\n",
       "      <td>gaussian_filter</td>\n",
       "      <td>sigma=0.496</td>\n",
       "      <td>0.127922</td>\n",
       "      <td>0.099555</td>\n",
       "      <td>0.202034</td>\n",
       "    </tr>\n",
       "  </tbody>\n",
       "</table>\n",
       "</div>"
      ],
      "text/plain": [
       "              model          arg       all   nucleus  membrane\n",
       "50  gaussian_filter  sigma=0.498  0.125916  0.096368  0.203114\n",
       "48  gaussian_filter  sigma=0.494  0.128675  0.100584  0.202068\n",
       "49  gaussian_filter  sigma=0.496  0.127922  0.099555  0.202034"
      ]
     },
     "execution_count": 9,
     "metadata": {},
     "output_type": "execute_result"
    }
   ],
   "source": [
    "df.sort_values('membrane', ascending=False).head(3)"
   ]
  },
  {
   "cell_type": "code",
   "execution_count": 10,
   "id": "3dda3894-b6f2-426e-bbb4-8b8b9afd5d44",
   "metadata": {},
   "outputs": [],
   "source": [
    "df = pd.read_csv('result_csv/result_02.csv')"
   ]
  },
  {
   "cell_type": "code",
   "execution_count": 11,
   "id": "318f4310-4742-49e9-812d-a37e5589cd5c",
   "metadata": {},
   "outputs": [
    {
     "data": {
      "text/html": [
       "<div>\n",
       "<style scoped>\n",
       "    .dataframe tbody tr th:only-of-type {\n",
       "        vertical-align: middle;\n",
       "    }\n",
       "\n",
       "    .dataframe tbody tr th {\n",
       "        vertical-align: top;\n",
       "    }\n",
       "\n",
       "    .dataframe thead th {\n",
       "        text-align: right;\n",
       "    }\n",
       "</style>\n",
       "<table border=\"1\" class=\"dataframe\">\n",
       "  <thead>\n",
       "    <tr style=\"text-align: right;\">\n",
       "      <th></th>\n",
       "      <th>model</th>\n",
       "      <th>arg</th>\n",
       "      <th>all</th>\n",
       "      <th>nucleus</th>\n",
       "      <th>membrane</th>\n",
       "    </tr>\n",
       "  </thead>\n",
       "  <tbody>\n",
       "    <tr>\n",
       "      <th>31</th>\n",
       "      <td>gaussian_filter</td>\n",
       "      <td>sigma=0.462</td>\n",
       "      <td>0.141767</td>\n",
       "      <td>0.129823</td>\n",
       "      <td>0.177242</td>\n",
       "    </tr>\n",
       "    <tr>\n",
       "      <th>26</th>\n",
       "      <td>gaussian_filter</td>\n",
       "      <td>sigma=0.452</td>\n",
       "      <td>0.141757</td>\n",
       "      <td>0.132452</td>\n",
       "      <td>0.169394</td>\n",
       "    </tr>\n",
       "    <tr>\n",
       "      <th>27</th>\n",
       "      <td>gaussian_filter</td>\n",
       "      <td>sigma=0.454</td>\n",
       "      <td>0.141721</td>\n",
       "      <td>0.131705</td>\n",
       "      <td>0.171472</td>\n",
       "    </tr>\n",
       "  </tbody>\n",
       "</table>\n",
       "</div>"
      ],
      "text/plain": [
       "              model          arg       all   nucleus  membrane\n",
       "31  gaussian_filter  sigma=0.462  0.141767  0.129823  0.177242\n",
       "26  gaussian_filter  sigma=0.452  0.141757  0.132452  0.169394\n",
       "27  gaussian_filter  sigma=0.454  0.141721  0.131705  0.171472"
      ]
     },
     "execution_count": 11,
     "metadata": {},
     "output_type": "execute_result"
    }
   ],
   "source": [
    "df.sort_values('all', ascending=False).head(3)"
   ]
  },
  {
   "cell_type": "code",
   "execution_count": 12,
   "id": "46251967-a0eb-4831-befa-8e135df3c2b7",
   "metadata": {},
   "outputs": [
    {
     "data": {
      "text/html": [
       "<div>\n",
       "<style scoped>\n",
       "    .dataframe tbody tr th:only-of-type {\n",
       "        vertical-align: middle;\n",
       "    }\n",
       "\n",
       "    .dataframe tbody tr th {\n",
       "        vertical-align: top;\n",
       "    }\n",
       "\n",
       "    .dataframe thead th {\n",
       "        text-align: right;\n",
       "    }\n",
       "</style>\n",
       "<table border=\"1\" class=\"dataframe\">\n",
       "  <thead>\n",
       "    <tr style=\"text-align: right;\">\n",
       "      <th></th>\n",
       "      <th>model</th>\n",
       "      <th>arg</th>\n",
       "      <th>all</th>\n",
       "      <th>nucleus</th>\n",
       "      <th>membrane</th>\n",
       "    </tr>\n",
       "  </thead>\n",
       "  <tbody>\n",
       "    <tr>\n",
       "      <th>21</th>\n",
       "      <td>gaussian_filter</td>\n",
       "      <td>sigma=0.442</td>\n",
       "      <td>0.140611</td>\n",
       "      <td>0.133386</td>\n",
       "      <td>0.162073</td>\n",
       "    </tr>\n",
       "    <tr>\n",
       "      <th>22</th>\n",
       "      <td>gaussian_filter</td>\n",
       "      <td>sigma=0.444</td>\n",
       "      <td>0.140420</td>\n",
       "      <td>0.132851</td>\n",
       "      <td>0.162901</td>\n",
       "    </tr>\n",
       "    <tr>\n",
       "      <th>20</th>\n",
       "      <td>gaussian_filter</td>\n",
       "      <td>sigma=0.44</td>\n",
       "      <td>0.139520</td>\n",
       "      <td>0.132720</td>\n",
       "      <td>0.159717</td>\n",
       "    </tr>\n",
       "  </tbody>\n",
       "</table>\n",
       "</div>"
      ],
      "text/plain": [
       "              model          arg       all   nucleus  membrane\n",
       "21  gaussian_filter  sigma=0.442  0.140611  0.133386  0.162073\n",
       "22  gaussian_filter  sigma=0.444  0.140420  0.132851  0.162901\n",
       "20  gaussian_filter   sigma=0.44  0.139520  0.132720  0.159717"
      ]
     },
     "execution_count": 12,
     "metadata": {},
     "output_type": "execute_result"
    }
   ],
   "source": [
    "df.sort_values('nucleus', ascending=False).head(3)"
   ]
  },
  {
   "cell_type": "code",
   "execution_count": 13,
   "id": "822fed63-241d-4bfb-a6f2-5efc707195b9",
   "metadata": {
    "scrolled": true
   },
   "outputs": [
    {
     "data": {
      "text/html": [
       "<div>\n",
       "<style scoped>\n",
       "    .dataframe tbody tr th:only-of-type {\n",
       "        vertical-align: middle;\n",
       "    }\n",
       "\n",
       "    .dataframe tbody tr th {\n",
       "        vertical-align: top;\n",
       "    }\n",
       "\n",
       "    .dataframe thead th {\n",
       "        text-align: right;\n",
       "    }\n",
       "</style>\n",
       "<table border=\"1\" class=\"dataframe\">\n",
       "  <thead>\n",
       "    <tr style=\"text-align: right;\">\n",
       "      <th></th>\n",
       "      <th>model</th>\n",
       "      <th>arg</th>\n",
       "      <th>all</th>\n",
       "      <th>nucleus</th>\n",
       "      <th>membrane</th>\n",
       "    </tr>\n",
       "  </thead>\n",
       "  <tbody>\n",
       "    <tr>\n",
       "      <th>49</th>\n",
       "      <td>gaussian_filter</td>\n",
       "      <td>sigma=0.498</td>\n",
       "      <td>0.125916</td>\n",
       "      <td>0.104894</td>\n",
       "      <td>0.188360</td>\n",
       "    </tr>\n",
       "    <tr>\n",
       "      <th>47</th>\n",
       "      <td>gaussian_filter</td>\n",
       "      <td>sigma=0.494</td>\n",
       "      <td>0.128675</td>\n",
       "      <td>0.108821</td>\n",
       "      <td>0.187649</td>\n",
       "    </tr>\n",
       "    <tr>\n",
       "      <th>48</th>\n",
       "      <td>gaussian_filter</td>\n",
       "      <td>sigma=0.496</td>\n",
       "      <td>0.127922</td>\n",
       "      <td>0.107854</td>\n",
       "      <td>0.187528</td>\n",
       "    </tr>\n",
       "  </tbody>\n",
       "</table>\n",
       "</div>"
      ],
      "text/plain": [
       "              model          arg       all   nucleus  membrane\n",
       "49  gaussian_filter  sigma=0.498  0.125916  0.104894  0.188360\n",
       "47  gaussian_filter  sigma=0.494  0.128675  0.108821  0.187649\n",
       "48  gaussian_filter  sigma=0.496  0.127922  0.107854  0.187528"
      ]
     },
     "execution_count": 13,
     "metadata": {},
     "output_type": "execute_result"
    }
   ],
   "source": [
    "df.sort_values('membrane', ascending=False).head(3)"
   ]
  },
  {
   "cell_type": "code",
   "execution_count": 14,
   "id": "d9d5449f-5940-405a-a8eb-e4aeb95755ff",
   "metadata": {},
   "outputs": [],
   "source": [
    "df = pd.read_csv('result_csv/result_01.csv')"
   ]
  },
  {
   "cell_type": "code",
   "execution_count": 15,
   "id": "9c7555d5-0e39-4aab-a45b-df68c810b081",
   "metadata": {},
   "outputs": [
    {
     "data": {
      "text/html": [
       "<div>\n",
       "<style scoped>\n",
       "    .dataframe tbody tr th:only-of-type {\n",
       "        vertical-align: middle;\n",
       "    }\n",
       "\n",
       "    .dataframe tbody tr th {\n",
       "        vertical-align: top;\n",
       "    }\n",
       "\n",
       "    .dataframe thead th {\n",
       "        text-align: right;\n",
       "    }\n",
       "</style>\n",
       "<table border=\"1\" class=\"dataframe\">\n",
       "  <thead>\n",
       "    <tr style=\"text-align: right;\">\n",
       "      <th></th>\n",
       "      <th>model</th>\n",
       "      <th>arg</th>\n",
       "      <th>all</th>\n",
       "      <th>nucleus</th>\n",
       "      <th>membrane</th>\n",
       "    </tr>\n",
       "  </thead>\n",
       "  <tbody>\n",
       "    <tr>\n",
       "      <th>179</th>\n",
       "      <td>gaussian_filter</td>\n",
       "      <td>sigma=0.458</td>\n",
       "      <td>0.007212</td>\n",
       "      <td>0.007255</td>\n",
       "      <td>0.007084</td>\n",
       "    </tr>\n",
       "    <tr>\n",
       "      <th>180</th>\n",
       "      <td>gaussian_filter</td>\n",
       "      <td>sigma=0.46</td>\n",
       "      <td>0.007204</td>\n",
       "      <td>0.007232</td>\n",
       "      <td>0.007121</td>\n",
       "    </tr>\n",
       "    <tr>\n",
       "      <th>181</th>\n",
       "      <td>gaussian_filter</td>\n",
       "      <td>sigma=0.462</td>\n",
       "      <td>0.007203</td>\n",
       "      <td>0.007205</td>\n",
       "      <td>0.007197</td>\n",
       "    </tr>\n",
       "  </tbody>\n",
       "</table>\n",
       "</div>"
      ],
      "text/plain": [
       "               model          arg       all   nucleus  membrane\n",
       "179  gaussian_filter  sigma=0.458  0.007212  0.007255  0.007084\n",
       "180  gaussian_filter   sigma=0.46  0.007204  0.007232  0.007121\n",
       "181  gaussian_filter  sigma=0.462  0.007203  0.007205  0.007197"
      ]
     },
     "execution_count": 15,
     "metadata": {},
     "output_type": "execute_result"
    }
   ],
   "source": [
    "df.sort_values('all', ascending=False).head(3)"
   ]
  },
  {
   "cell_type": "code",
   "execution_count": 16,
   "id": "6a84798d-d00a-4f1f-8911-79e827b4975c",
   "metadata": {},
   "outputs": [
    {
     "data": {
      "text/html": [
       "<div>\n",
       "<style scoped>\n",
       "    .dataframe tbody tr th:only-of-type {\n",
       "        vertical-align: middle;\n",
       "    }\n",
       "\n",
       "    .dataframe tbody tr th {\n",
       "        vertical-align: top;\n",
       "    }\n",
       "\n",
       "    .dataframe thead th {\n",
       "        text-align: right;\n",
       "    }\n",
       "</style>\n",
       "<table border=\"1\" class=\"dataframe\">\n",
       "  <thead>\n",
       "    <tr style=\"text-align: right;\">\n",
       "      <th></th>\n",
       "      <th>model</th>\n",
       "      <th>arg</th>\n",
       "      <th>all</th>\n",
       "      <th>nucleus</th>\n",
       "      <th>membrane</th>\n",
       "    </tr>\n",
       "  </thead>\n",
       "  <tbody>\n",
       "    <tr>\n",
       "      <th>171</th>\n",
       "      <td>gaussian_filter</td>\n",
       "      <td>sigma=0.442</td>\n",
       "      <td>0.007130</td>\n",
       "      <td>0.007348</td>\n",
       "      <td>0.006480</td>\n",
       "    </tr>\n",
       "    <tr>\n",
       "      <th>172</th>\n",
       "      <td>gaussian_filter</td>\n",
       "      <td>sigma=0.444</td>\n",
       "      <td>0.007129</td>\n",
       "      <td>0.007338</td>\n",
       "      <td>0.006509</td>\n",
       "    </tr>\n",
       "    <tr>\n",
       "      <th>175</th>\n",
       "      <td>gaussian_filter</td>\n",
       "      <td>sigma=0.45</td>\n",
       "      <td>0.007174</td>\n",
       "      <td>0.007317</td>\n",
       "      <td>0.006749</td>\n",
       "    </tr>\n",
       "  </tbody>\n",
       "</table>\n",
       "</div>"
      ],
      "text/plain": [
       "               model          arg       all   nucleus  membrane\n",
       "171  gaussian_filter  sigma=0.442  0.007130  0.007348  0.006480\n",
       "172  gaussian_filter  sigma=0.444  0.007129  0.007338  0.006509\n",
       "175  gaussian_filter   sigma=0.45  0.007174  0.007317  0.006749"
      ]
     },
     "execution_count": 16,
     "metadata": {},
     "output_type": "execute_result"
    }
   ],
   "source": [
    "df.sort_values('nucleus', ascending=False).head(3)"
   ]
  },
  {
   "cell_type": "code",
   "execution_count": 17,
   "id": "2c5a9234-ceec-4d3f-8dae-37b4d8d0b3a2",
   "metadata": {
    "scrolled": true
   },
   "outputs": [
    {
     "data": {
      "text/html": [
       "<div>\n",
       "<style scoped>\n",
       "    .dataframe tbody tr th:only-of-type {\n",
       "        vertical-align: middle;\n",
       "    }\n",
       "\n",
       "    .dataframe tbody tr th {\n",
       "        vertical-align: top;\n",
       "    }\n",
       "\n",
       "    .dataframe thead th {\n",
       "        text-align: right;\n",
       "    }\n",
       "</style>\n",
       "<table border=\"1\" class=\"dataframe\">\n",
       "  <thead>\n",
       "    <tr style=\"text-align: right;\">\n",
       "      <th></th>\n",
       "      <th>model</th>\n",
       "      <th>arg</th>\n",
       "      <th>all</th>\n",
       "      <th>nucleus</th>\n",
       "      <th>membrane</th>\n",
       "    </tr>\n",
       "  </thead>\n",
       "  <tbody>\n",
       "    <tr>\n",
       "      <th>11</th>\n",
       "      <td>gaussian_filter</td>\n",
       "      <td>sigma=0.55</td>\n",
       "      <td>0.004230</td>\n",
       "      <td>0.002994</td>\n",
       "      <td>0.007900</td>\n",
       "    </tr>\n",
       "    <tr>\n",
       "      <th>199</th>\n",
       "      <td>gaussian_filter</td>\n",
       "      <td>sigma=0.498</td>\n",
       "      <td>0.006432</td>\n",
       "      <td>0.005978</td>\n",
       "      <td>0.007779</td>\n",
       "    </tr>\n",
       "    <tr>\n",
       "      <th>195</th>\n",
       "      <td>gaussian_filter</td>\n",
       "      <td>sigma=0.49</td>\n",
       "      <td>0.006730</td>\n",
       "      <td>0.006380</td>\n",
       "      <td>0.007770</td>\n",
       "    </tr>\n",
       "  </tbody>\n",
       "</table>\n",
       "</div>"
      ],
      "text/plain": [
       "               model          arg       all   nucleus  membrane\n",
       "11   gaussian_filter   sigma=0.55  0.004230  0.002994  0.007900\n",
       "199  gaussian_filter  sigma=0.498  0.006432  0.005978  0.007779\n",
       "195  gaussian_filter   sigma=0.49  0.006730  0.006380  0.007770"
      ]
     },
     "execution_count": 17,
     "metadata": {},
     "output_type": "execute_result"
    }
   ],
   "source": [
    "df.sort_values('membrane', ascending=False).head(3)"
   ]
  },
  {
   "cell_type": "code",
   "execution_count": null,
   "id": "8ed74dda-b479-4750-8824-fc75b7f0c594",
   "metadata": {},
   "outputs": [],
   "source": []
  }
 ],
 "metadata": {
  "kernelspec": {
   "display_name": "Python 3 (ipykernel)",
   "language": "python",
   "name": "python3"
  },
  "language_info": {
   "codemirror_mode": {
    "name": "ipython",
    "version": 3
   },
   "file_extension": ".py",
   "mimetype": "text/x-python",
   "name": "python",
   "nbconvert_exporter": "python",
   "pygments_lexer": "ipython3",
   "version": "3.11.0rc1"
  }
 },
 "nbformat": 4,
 "nbformat_minor": 5
}
